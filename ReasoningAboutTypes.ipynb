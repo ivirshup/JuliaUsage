{
 "cells": [
  {
   "cell_type": "markdown",
   "metadata": {},
   "source": [
    "This notebook will contain some scratch work on searching the ASTs of some julia code looking for reasoning about types. I'll probably also have some plots in here.\n",
    "\n",
    "# Setup"
   ]
  },
  {
   "cell_type": "code",
   "execution_count": null,
   "metadata": {
    "collapsed": false
   },
   "outputs": [],
   "source": [
    "addprocs(6)"
   ]
  },
  {
   "cell_type": "code",
   "execution_count": null,
   "metadata": {
    "collapsed": false
   },
   "outputs": [],
   "source": [
    "push!(LOAD_PATH, pwd());"
   ]
  },
  {
   "cell_type": "code",
   "execution_count": null,
   "metadata": {
    "collapsed": false
   },
   "outputs": [],
   "source": [
    "using C\n",
    "using ASTp\n",
    "using DataStructures"
   ]
  },
  {
   "cell_type": "code",
   "execution_count": null,
   "metadata": {
    "collapsed": false
   },
   "outputs": [],
   "source": [
    "reload(\"C\")\n",
    "reload(\"ASTp\")"
   ]
  },
  {
   "cell_type": "code",
   "execution_count": null,
   "metadata": {
    "collapsed": false
   },
   "outputs": [],
   "source": [
    "test_dir = \"test_modules/\"\n",
    "eco_dir = \"/Users/isaac/Documents/julia_repos/\"\n",
    "base_dir = \"/Users/isaac/github/julia/Base/\"\n",
    "test_files = C.search_dirs(test_dir)\n",
    "eco_files = C.search_dirs(eco_dir)\n",
    "base_files = C.search_dirs(base_dir);"
   ]
  },
  {
   "cell_type": "markdown",
   "metadata": {},
   "source": [
    "# Examples\n",
    "\n",
    "### methods using methods that use Types"
   ]
  },
  {
   "cell_type": "code",
   "execution_count": null,
   "metadata": {
    "collapsed": false
   },
   "outputs": [],
   "source": [
    "@time begin\n",
    "    @everywhere type_mt = methodswith(Type, Base);\n",
    "    @everywhere type_funcs = unique(map(x->x.func.name::Symbol, type_mt));\n",
    "end"
   ]
  },
  {
   "cell_type": "code",
   "execution_count": null,
   "metadata": {
    "collapsed": false
   },
   "outputs": [],
   "source": [
    "# Getting signatures for methods\n",
    "# To interact with the signatures, use `sig.parameters`\n",
    "@everywhere tmethod_info = let d = DataStructures.OrderedDict{Symbol,Dict}([t=>Dict{Any,Any}(\"sigs\" => []) for t in type_funcs]...)\n",
    "    for m in type_mt\n",
    "        push!(d[m.func.name][\"sigs\"], m.sig)\n",
    "    end\n",
    "    for v in values(d)\n",
    "        v[\"siglengths\"] = unique(Int[length(s.parameters) for s in v[\"sigs\"]])\n",
    "    end\n",
    "    d\n",
    "end\n",
    "    "
   ]
  },
  {
   "cell_type": "code",
   "execution_count": null,
   "metadata": {
    "collapsed": false
   },
   "outputs": [],
   "source": [
    "# parse_ast(test_files, \n",
    "# )\n",
    "@everywhere function process_file(path::AbstractString, s::C.Selector)\n",
    "#     println(path)\n",
    "    ast = C.parse_file(path)\n",
    "    exprs_list = try \n",
    "        C.parse_ast(ast, s)\n",
    "    catch x\n",
    "        println(path)\n",
    "        println(x)\n",
    "        return [x]\n",
    "    end\n",
    "    return exprs_list\n",
    "#   count_fields(exprs_list)\n",
    "end"
   ]
  },
  {
   "cell_type": "code",
   "execution_count": null,
   "metadata": {
    "collapsed": true
   },
   "outputs": [],
   "source": [
    "# # @everywhere function gettypefunctions(files, degree::Int)\n",
    "# @everywhere function gettypefunctions(degree::Int, comparison=(==))\n",
    "#         C.Selector(Any[\n",
    "#             ASTp.isfunction, # Only look at functions\n",
    "#             [\n",
    "#                 ASTp.functionbody, # Inside their guts\n",
    "#                 y->C.parse_ast(y,C.Selector([ # Count the number of functions they use which can be dispatched on Types\n",
    "#                     x->isa(x,Expr),\n",
    "#                     x->ASTp.iscalling(x,type_funcs)\n",
    "#                     ])),\n",
    "# #                 x->length(x)>degree # Filter by count of functions\n",
    "#             x->comparison(length(x),degree)\n",
    "#             ]\n",
    "#         ]\n",
    "#     )#)\n",
    "# end"
   ]
  },
  {
   "cell_type": "code",
   "execution_count": null,
   "metadata": {
    "collapsed": false
   },
   "outputs": [],
   "source": [
    "# @everywhere function gettypefunctions(files, degree::Int)\n",
    "@everywhere function gettypefunctions(degree::Int, comparison=(==))\n",
    "        C.Selector(Any[\n",
    "            ASTp.isfunction,# Only look at functions\n",
    "        x->!ASTp.isanon(x), # Don't want anonymous functions. Only declared ones\n",
    "            [\n",
    "                ASTp.functionbody, # Inside their guts\n",
    "                y->C.parse_ast(y,C.Selector([ # Count the number of functions they use which can be dispatched on Types\n",
    "                    x->isa(x,Expr),\n",
    "                    x->ASTp.iscalling(x,type_funcs),\n",
    "                    x->length(x.args) in  tmethod_info[x.args[1]][\"siglengths\"] # Signatures should at least be of right length\n",
    "                    ])),\n",
    "#                 x->length(x)>degree # Filter by count of functions\n",
    "            x->comparison(length(x),degree)\n",
    "            ]\n",
    "        ]\n",
    "    )#)\n",
    "end"
   ]
  },
  {
   "cell_type": "code",
   "execution_count": null,
   "metadata": {
    "collapsed": false
   },
   "outputs": [],
   "source": [
    "@everywhere function get_counts(file)\n",
    "    data = map(1:10) do number\n",
    "        f = gettypefunctions(number)\n",
    "        process_file(file, f)\n",
    "    end\n",
    "#     println(typeof(data))\n",
    "#     println(typeof(gettypefunctions(10, >)))\n",
    "#     append!(data, gettypefunctions(gettypefunctions(10, >)))\n",
    "    return data\n",
    "end\n",
    "\n",
    "\n"
   ]
  },
  {
   "cell_type": "markdown",
   "metadata": {},
   "source": [
    "### I want to figure out input -> output types for some functions\n",
    "\n",
    "* So I can use built in stuff.\n",
    "* However, I'll need to know how to call things, so I'll want a mapping of functions to the module they were defined in.\n",
    "* So I'll also need to be able to work with nested modules.\n",
    "\n",
    "`module_tree` has been created\n",
    "\n",
    "\n",
    "#### Issues\n",
    "\n",
    "* `<|` is exported, but I can't find any definition being assigned to it\n",
    "\n",
    "### return type inference on a method"
   ]
  },
  {
   "cell_type": "code",
   "execution_count": null,
   "metadata": {
    "collapsed": false
   },
   "outputs": [],
   "source": [
    "fieldsntypes(f) = map(x->(x, fieldtype(typeof(f), x)), fieldnames(f))"
   ]
  },
  {
   "cell_type": "code",
   "execution_count": null,
   "metadata": {
    "collapsed": false
   },
   "outputs": [],
   "source": [
    "fieldsntypes(temp2)"
   ]
  },
  {
   "cell_type": "code",
   "execution_count": null,
   "metadata": {
    "collapsed": false
   },
   "outputs": [],
   "source": [
    "\"\"\"Trys to infer which types a method could return.\"\"\"\n",
    "function return_types(m::Method)\n",
    "    linfo = m.func\n",
    "    atypes = Base.to_tuple_type(m.sig)\n",
    "    if !isa(m.tvars, SimpleVector)\n",
    "        sparams = Base.svec(m.tvars)\n",
    "    else\n",
    "        sparams = m.tvars\n",
    "    end\n",
    "    @assert isa(sparams, SimpleVector)\n",
    "    # I think I need to get m.tvars into a SimpleVector\n",
    "    (_li, ty) = Core.Inference.typeinf(linfo, atypes, sparams)\n",
    "    println(_li)\n",
    "    ty\n",
    "end\n",
    "return_types(type_mt[end-1])"
   ]
  },
  {
   "cell_type": "code",
   "execution_count": null,
   "metadata": {
    "collapsed": false
   },
   "outputs": [],
   "source": [
    "\"\"\"\n",
    "Counts how many time a method calls it's function.\n",
    "\"\"\"\n",
    "function same_function(x)\n",
    "    name = functionname(x)\n",
    "    body = functionbody(x)\n",
    "    parse_ast(body, Selector([isexpr, iscalling(name)]))\n",
    "end"
   ]
  },
  {
   "cell_type": "markdown",
   "metadata": {},
   "source": [
    "# Filtering raw data\n",
    "\n",
    "I pick up some weird stuff in the raw data. Here I'll be establishing what I'm clearing out."
   ]
  },
  {
   "cell_type": "code",
   "execution_count": null,
   "metadata": {
    "collapsed": false
   },
   "outputs": [],
   "source": [
    "\"\"\"Function to be applied to each element of list of function expressions to see if they could be filtered.\"\"\"\n",
    "function filter_expr(expr::Expr)\n",
    "    if isa(expr.args[1], Bool) # Some weird stuff in Markdown with `@breaking` macro\n",
    "        return false\n",
    "    end\n",
    "    return true\n",
    "end \n",
    "filter_expr(not_expr::Any) = false"
   ]
  },
  {
   "cell_type": "markdown",
   "metadata": {},
   "source": [
    "# Take 1\n",
    "\n",
    "Getting data out and playing around with it. Here I tried to go by how much type algebra each function had"
   ]
  },
  {
   "cell_type": "code",
   "execution_count": null,
   "metadata": {
    "collapsed": true
   },
   "outputs": [],
   "source": [
    "raw = pmap(get_counts, base_files);\n"
   ]
  },
  {
   "cell_type": "code",
   "execution_count": null,
   "metadata": {
    "collapsed": true
   },
   "outputs": [],
   "source": [
    "tenplus = pmap(x->process_file(x, gettypefunctions(10, >)),base_files);"
   ]
  },
  {
   "cell_type": "code",
   "execution_count": null,
   "metadata": {
    "collapsed": true
   },
   "outputs": [],
   "source": [
    "for i in 1:length(tenplus)\n",
    "\n",
    "    push!(raw[i], tenplus[i])\n",
    "end "
   ]
  },
  {
   "cell_type": "code",
   "execution_count": null,
   "metadata": {
    "collapsed": true
   },
   "outputs": [],
   "source": [
    "serialize(open(\"data/type_func_calls.jld\", \"w\"), raw)"
   ]
  },
  {
   "cell_type": "code",
   "execution_count": null,
   "metadata": {
    "collapsed": true
   },
   "outputs": [],
   "source": [
    "raw = deserialize(open(\"data/type_func_calls.jld\"));"
   ]
  },
  {
   "cell_type": "code",
   "execution_count": null,
   "metadata": {
    "collapsed": true
   },
   "outputs": [],
   "source": [
    "function to2d(raw)\n",
    "    temp = deepcopy(raw)\n",
    "    for i in 1:length(temp)\n",
    "        for j in 1:length(temp[i])\n",
    "            if length(temp[i][j]) == 1 && all(x->isa(x, Exception), temp[i][j])\n",
    "#                 println(i,\" \", j)\n",
    "                temp[i][j] = Any[]\n",
    "            end\n",
    "        end\n",
    "    end\n",
    "    return reduce(hcat, temp) # plot that with names\n",
    "end\n",
    "raw2d = to2d(raw)\n",
    "t_counts = map(length, raw2d)\n",
    "# us\n",
    "# @as _ raw2d[11,:] filter(x->length(x)>0, _) reduce(append!, Expr[],_) join(_,\"\\n\") clipboard(_)"
   ]
  },
  {
   "cell_type": "markdown",
   "metadata": {},
   "source": [
    "## Collection and playtime with data"
   ]
  },
  {
   "cell_type": "code",
   "execution_count": null,
   "metadata": {
    "collapsed": true
   },
   "outputs": [],
   "source": [
    "using Lazy\n",
    "# collecting data to look at\n",
    "huge = counts[11,:].>0\n",
    "@as _ raw2d[11,:] filter(x->length(x)>0, _) reduce(append!, Expr[],_) join(_,\"\\n\") clipboard(_) \n",
    "# Finding files with functions which do a lot of reasoning\n",
    "base_files[counts[11,:] .> 0] \n",
    "# Finding files who do a lot with types\n",
    "let temp = mapslices(x->sum(x .* [1:11]), counts, 1)\n",
    "    temp = vcat(reshape(base_files, 1, length(base_files)), temp)\n",
    "    sortcols(temp, by=y->y[2], rev=true)\n",
    "end"
   ]
  },
  {
   "cell_type": "code",
   "execution_count": null,
   "metadata": {
    "collapsed": true
   },
   "outputs": [],
   "source": [
    "t_counts = let temp = pmap(x->process_file(x, gettypefunctions(10, >)),base_files)\n",
    "    map!(length, temp)\n",
    "    vcat(t_counts, reshape(temp, 1, length(temp)))\n",
    "end"
   ]
  },
  {
   "cell_type": "code",
   "execution_count": null,
   "metadata": {
    "collapsed": false
   },
   "outputs": [],
   "source": [
    "per_file = let temp = mapslices(x->sum(x .* [1:11;]), t_counts, 1)\n",
    "    temp = vcat(reshape(base_files, 1, length(base_files)), temp)\n",
    "    temp= sortcols(temp, by=y->y[2])\n",
    "    rotl90(temp)\n",
    "end"
   ]
  },
  {
   "cell_type": "code",
   "execution_count": null,
   "metadata": {
    "collapsed": true
   },
   "outputs": [],
   "source": []
  },
  {
   "cell_type": "code",
   "execution_count": null,
   "metadata": {
    "collapsed": false
   },
   "outputs": [],
   "source": [
    "open(\"data/tycounts.jld\",\"w\") do f\n",
    "    serialize(f, counts)\n",
    "end\n",
    "counts == deserialize(open(\"data/tycounts.jld\"))"
   ]
  },
  {
   "cell_type": "code",
   "execution_count": null,
   "metadata": {
    "collapsed": false
   },
   "outputs": [],
   "source": [
    "rmprocs(workers())"
   ]
  },
  {
   "cell_type": "code",
   "execution_count": null,
   "metadata": {
    "collapsed": false
   },
   "outputs": [],
   "source": [
    "df = DataFrame()\n",
    "df[:file] = base_files\n",
    "map(1:11) do count_num\n",
    "    df[symbol(string(\"count_\",count_num))] = t_counts[count_num,:] #temp3[count_num, :]\n",
    "end;"
   ]
  },
  {
   "cell_type": "code",
   "execution_count": null,
   "metadata": {
    "collapsed": false
   },
   "outputs": [],
   "source": [
    "countcols = [symbol(string(\"count_\",i)) for i in 1:10]\n",
    "df2 = stack(df, countcols, :file)\n",
    "df2[:count] = map(x->parse(Int, string(x)[7:end]), df2[:variable])\n",
    "df2 = df2[[:file,:count,:value]]\n"
   ]
  },
  {
   "cell_type": "code",
   "execution_count": null,
   "metadata": {
    "collapsed": true
   },
   "outputs": [],
   "source": [
    "# serialize(open(\"data/typerdf.jld\", \"w\"), df2)\n",
    "writetable(\"data/typerdf.dat\", df2)"
   ]
  },
  {
   "cell_type": "markdown",
   "metadata": {},
   "source": [
    "# Take 2: Finding a better way to organize my data\n",
    "\n",
    "Here I am going to try and keep the data around. Basically I want to have a format where it's easy for me to interogate the data\n",
    "\n",
    "Right now a dataframe in long format is looking appealing, as I can just groupby"
   ]
  },
  {
   "cell_type": "code",
   "execution_count": null,
   "metadata": {
    "collapsed": false
   },
   "outputs": [],
   "source": [
    "raw = pmap(base_files) do file\n",
    "    process_file(file, gettypefunctions(1, >))\n",
    "end;\n",
    "raw = pmap(x->filter(filter_expr, x), raw)"
   ]
  },
  {
   "cell_type": "code",
   "execution_count": null,
   "metadata": {
    "collapsed": false
   },
   "outputs": [],
   "source": [
    "rmprocs(workers())"
   ]
  },
  {
   "cell_type": "code",
   "execution_count": null,
   "metadata": {
    "collapsed": false,
    "scrolled": true
   },
   "outputs": [],
   "source": [
    "using DataFrames\n",
    "import DataFrames.head\n",
    "using JLD"
   ]
  },
  {
   "cell_type": "code",
   "execution_count": null,
   "metadata": {
    "collapsed": false
   },
   "outputs": [],
   "source": [
    "df = DataFrame()\n",
    "df[:file] = convert(Array{ASCIIString}, base_files)\n",
    "df[:exprs] = raw;\n",
    "sort!(df, cols = order(:exprs, by=length), rev=true);\n",
    "df[:file] = map(x->x[32:end], df[:file].data);\n"
   ]
  },
  {
   "cell_type": "code",
   "execution_count": null,
   "metadata": {
    "collapsed": false,
    "scrolled": true
   },
   "outputs": [],
   "source": [
    "collect_calls(x) = map(field([:args, 1]), parse_ast(x, Selector([isexpr, iscall])))\n",
    "\"\"\"Literally copy pasted from stack overflow, might sort a counter? select says it will partially sort.\"\"\"\n",
    "most_common(c::Accumulator)    = most_common(c, length(c))\n",
    "most_common(c::Accumulator, k) = select!(collect(c), 1:k, by=kv->kv[2], rev=true)"
   ]
  },
  {
   "cell_type": "markdown",
   "metadata": {},
   "source": [
    "## Expanding DataFrame by expression\n",
    "\n",
    "* Each expression gets it's own row\n",
    "* **Names** of functions defined by expression are also extracted"
   ]
  },
  {
   "cell_type": "code",
   "execution_count": null,
   "metadata": {
    "collapsed": false
   },
   "outputs": [],
   "source": [
    "\"\"\"Extract function names from expressions\"\"\"\n",
    "exprnames(exprs) = map(x->try ASTp.functionname(x) catch nothing end, exprs) # Definitions with strange syntax."
   ]
  },
  {
   "cell_type": "code",
   "execution_count": null,
   "metadata": {
    "collapsed": false
   },
   "outputs": [],
   "source": [
    "# Expanding dataframe by expression\n",
    "exdf = by(df, :file) do df\n",
    "    n = length(df[1, :exprs])\n",
    "    f = df[1, :file]\n",
    "    DataFrame(expr=df[1, :exprs])\n",
    "end\n",
    "# Filtering out bounds errors from earlier\n",
    "exdf = exdf[![isa(x,BoundsError) for x in exdf[:expr]],:]\n",
    "exdf[:expr] = convert(Array{Expr,1}, exdf[:expr].data) # Now we have a single type.;\n",
    "exdf[:name] = exprnames(exdf[:expr]); # Has errors, probably shouldn't index on this.;"
   ]
  },
  {
   "cell_type": "code",
   "execution_count": null,
   "metadata": {
    "collapsed": false
   },
   "outputs": [],
   "source": [
    "# Getting most common functions for the files in the expressions.\n",
    "let tempdf = deepcopy(exdf)\n",
    "    tempdf[:functions] = map(collect_calls, tempdf[:expr])\n",
    "    by(tempdf, :file) do subdf\n",
    "        f = subdf[1, :file]\n",
    "        fs = vcat(subdf[:functions]...)\n",
    "        temp = filter(x->x in type_funcs, fs) |> counter |> most_common#x->x.map |> collect\n",
    "#         DataFrame(counts = counter() |> most_common)\n",
    "        DataFrame(subdf[:])\n",
    "    end\n",
    "end"
   ]
  },
  {
   "cell_type": "code",
   "execution_count": null,
   "metadata": {
    "collapsed": true
   },
   "outputs": [],
   "source": [
    "# Most common over all\n",
    "let temp = map(collect_calls, exdf[:expr])\n",
    "    temp = vcat(temp...)\n",
    "    filter(x->x in type_funcs, temp) |> counter |> most_common |> Base.showarray\n",
    "end"
   ]
  },
  {
   "cell_type": "code",
   "execution_count": null,
   "metadata": {
    "collapsed": false
   },
   "outputs": [],
   "source": [
    "let tempdf = deepcopy(exdf)\n",
    "    tempdf[:method_calls] = map(collect_calls, exdf[:expr])\n",
    "    by(exdf, :file) do subdf\n",
    "        counter(vcat(subdf[:method_calls]...))\n",
    "        "
   ]
  },
  {
   "cell_type": "code",
   "execution_count": null,
   "metadata": {
    "collapsed": false
   },
   "outputs": [],
   "source": [
    "callsdf = by(exdf, :expr) do subdf\n",
    "    name = subdf[1,:name]\n",
    "    file = subdf[1, :file]\n",
    "    expr = subdf[1,:expr]\n",
    "    sig = ASTp.functionhead(expr)\n",
    "    calls = collect_calls(subdf[1,:expr]) |> counter |> most_common\n",
    "    call_name = map(x->x[1], calls)\n",
    "    call_count = map(x->x[2], calls)\n",
    "    idxs = findin(call_name, type_funcs)\n",
    "    call_name = call_name[idxs]\n",
    "    call_count = call_count[idxs]\n",
    "    n = length(call_name)\n",
    "    DataFrame(file=fill(file,n) , name=fill(name,n), sig=fill(sig,n), called=call_name, count=call_count)\n",
    "end;"
   ]
  },
  {
   "cell_type": "code",
   "execution_count": null,
   "metadata": {
    "collapsed": false
   },
   "outputs": [],
   "source": [
    "temp = by(callsdf, :expr) do subdf\n",
    "    # TODO some values give multiple expressions\n",
    "    name = subdf[1,:name]\n",
    "    file = subdf[1,:file]\n",
    "    sig = subdf[1,:sig]\n",
    "    DataFrame(file=file, name=name, sig=sig, count=sum(subdf[:count]))\n",
    "end |> x->sort(x, cols=:count, rev=true)"
   ]
  },
  {
   "cell_type": "code",
   "execution_count": null,
   "metadata": {
    "collapsed": false
   },
   "outputs": [],
   "source": [
    "using RCall"
   ]
  },
  {
   "cell_type": "code",
   "execution_count": null,
   "metadata": {
    "collapsed": true
   },
   "outputs": [],
   "source": [
    "temp[:expr] = map(string, temp[:expr])\n",
    "temp[:name] = map(string, temp[:name])\n",
    "temp[:sig] = map(string, temp[:sig]);"
   ]
  },
  {
   "cell_type": "code",
   "execution_count": null,
   "metadata": {
    "collapsed": false
   },
   "outputs": [],
   "source": [
    "g = globalEnv\n",
    "reval(rparse(\"dfls <- NULL\"))"
   ]
  },
  {
   "cell_type": "code",
   "execution_count": null,
   "metadata": {
    "collapsed": false
   },
   "outputs": [],
   "source": [
    "rrun(x::AbstractString) = reval(rparse(x))"
   ]
  },
  {
   "cell_type": "code",
   "execution_count": null,
   "metadata": {
    "collapsed": false
   },
   "outputs": [],
   "source": [
    "rrun(\"dfls <- NULL\")"
   ]
  },
  {
   "cell_type": "code",
   "execution_count": null,
   "metadata": {
    "collapsed": false
   },
   "outputs": [],
   "source": [
    "for cnm in DataFrames._names(temp)\n",
    "    g[:colcnm] = RCall.sexp(convert(Array, temp[cnm]))\n",
    "    reval(rparse(\"dfls\\$$cnm <- colcnm\")) # Make a R list\n",
    "end"
   ]
  },
  {
   "cell_type": "code",
   "execution_count": null,
   "metadata": {
    "collapsed": false
   },
   "outputs": [],
   "source": [
    "rrun(\"df <- data.frame(dfls)\");"
   ]
  },
  {
   "cell_type": "code",
   "execution_count": null,
   "metadata": {
    "collapsed": false
   },
   "outputs": [],
   "source": [
    "rrun(\"library(WriteXLS)\")"
   ]
  },
  {
   "cell_type": "code",
   "execution_count": null,
   "metadata": {
    "collapsed": false
   },
   "outputs": [],
   "source": [
    "rrun(\"\"\"WriteXLS(df, \"test.xls\")\"\"\")"
   ]
  },
  {
   "cell_type": "code",
   "execution_count": null,
   "metadata": {
    "collapsed": false
   },
   "outputs": [],
   "source": [
    "rrun(\"save(file='dfjulia.RData', df)\")"
   ]
  },
  {
   "cell_type": "markdown",
   "metadata": {},
   "source": [
    "# Writing out data"
   ]
  },
  {
   "cell_type": "code",
   "execution_count": null,
   "metadata": {
    "collapsed": false
   },
   "outputs": [],
   "source": [
    "jldopen(\"data/plotting/df.jld\", \"w\") do f\n",
    "    write(f, \"df\", temp[[:file,:name,:sig,:called,:count]])\n",
    "end"
   ]
  },
  {
   "cell_type": "markdown",
   "metadata": {},
   "source": [
    "# TODO\n",
    "\n",
    "* Make a taxonomy of julia asts that will reason about types\n",
    "    * With identifying methods\n",
    "        * These could then be nested to find more precise things\n",
    "* Read that Julia paper.\n"
   ]
  },
  {
   "cell_type": "code",
   "execution_count": null,
   "metadata": {
    "collapsed": false
   },
   "outputs": [],
   "source": [
    "function methodsreturning(t::Type, f::Function, showparents::Bool=false, meths = Method[])\n",
    "    mt = typeof(f).name.mt\n",
    "    d = mt.defs\n",
    "    while d !== nothing\n",
    "        if (x -> (Base.type_close_enough(x, t) ||\n",
    "                     (showparents ? (t <: x && (!isa(x,TypeVar) || x.ub != Any)) :\n",
    "                      (isa(x,TypeVar) && x.ub != Any && t == x.ub)) &&\n",
    "                     x != Any && x != ANY))(d.func.rettype)\n",
    "            push!(meths, d)\n",
    "        end\n",
    "        d = d.next\n",
    "    end\n",
    "    return meths\n",
    "end\n",
    "\n",
    "function methodsreturning(t::Type, m::Module, showparents::Bool=false)\n",
    "    meths = Method[]\n",
    "    for nm in names(m)\n",
    "        if isdefined(m, nm)\n",
    "            f = getfield(m, nm)\n",
    "            if isa(f, Function)\n",
    "                methodsreturning(t, f, showparents, meths)\n",
    "            end\n",
    "        end\n",
    "    end\n",
    "    return unique(meths)\n",
    "end\n",
    "\n",
    "function methodsreturning(t::Type, showparents::Bool=false)\n",
    "    meths = Method[]\n",
    "    mainmod = current_module()\n",
    "    # find modules in Main\n",
    "    for nm in names(mainmod)\n",
    "        if isdefined(mainmod,nm)\n",
    "            mod = getfield(mainmod, nm)\n",
    "            if isa(mod, Module)\n",
    "                append!(meths, methodsreturning(t, mod, showparents))\n",
    "            end\n",
    "        end\n",
    "    end\n",
    "    return unique(meths)\n",
    "end"
   ]
  },
  {
   "cell_type": "code",
   "execution_count": null,
   "metadata": {
    "collapsed": false
   },
   "outputs": [],
   "source": [
    "methodsreturning(Int, foo)"
   ]
  },
  {
   "cell_type": "code",
   "execution_count": null,
   "metadata": {
    "collapsed": false
   },
   "outputs": [],
   "source": [
    "foo(x::Int) = x::Int\n",
    "foo(1)"
   ]
  },
  {
   "cell_type": "code",
   "execution_count": null,
   "metadata": {
    "collapsed": false
   },
   "outputs": [],
   "source": [
    "\n",
    "let d = typeof(foo).name.mt.defs\n",
    "    t = Int\n",
    "    meths = []\n",
    "    showparents = true\n",
    "    while d !== nothing\n",
    "        push!(meths, d.func.rettype) # I could probably just dump this and check it with a regular expression.\n",
    "        \n",
    "#         if (x -> (Base.type_close_enough(x, t) ||\n",
    "#                     (showparents ? (t <: x && (!isa(x,TypeVar) || x.ub != Any)) :\n",
    "#                       (isa(x,TypeVar) && x.ub != Any && t == x.ub)) &&\n",
    "#                      x != Any && x != ANY))(d.func.rettype)\n",
    "#             push!(meths, d)\n",
    "#         end\n",
    "        d = d.next\n",
    "    end\n",
    "    println(meths)\n",
    "end"
   ]
  },
  {
   "cell_type": "code",
   "execution_count": null,
   "metadata": {
    "collapsed": false
   },
   "outputs": [],
   "source": [
    "methodsreturning(Type, rem) "
   ]
  },
  {
   "cell_type": "code",
   "execution_count": null,
   "metadata": {
    "collapsed": false
   },
   "outputs": [],
   "source": [
    "@time methodswith(Function);"
   ]
  },
  {
   "cell_type": "code",
   "execution_count": null,
   "metadata": {
    "collapsed": true
   },
   "outputs": [],
   "source": [
    "@time methodswith2(Type)"
   ]
  }
 ],
 "metadata": {
  "kernelspec": {
   "display_name": "Julia 0.5.0-dev",
   "language": "julia",
   "name": "julia-0.5"
  },
  "language_info": {
   "file_extension": ".jl",
   "mimetype": "application/julia",
   "name": "julia",
   "version": "0.5.0"
  }
 },
 "nbformat": 4,
 "nbformat_minor": 0
}
